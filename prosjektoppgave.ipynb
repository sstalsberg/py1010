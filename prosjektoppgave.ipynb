{
 "cells": [
  {
   "cell_type": "markdown",
   "metadata": {
    "id": "QMAAWbRmwQvG"
   },
   "source": [
    "# Support dashboard.\n",
    "Du skal her utføre diverse analyser av data som er loggført for supportavdelingen ved telefonselskapet MORSE.\n",
    "\n",
    "Enhver kundehenvendelse til MORSE blir loggført i en xlsx-fil og du\n",
    "skal i dette prosjektet jobbe med dataloggen for uke 24.\n",
    "\n",
    "Filen er organisert på følgende måte:\n",
    "\n",
    "\n",
    "* Kolonne 1: Ukedag henvendelsen fant sted\n",
    "* Kolonne 2: Klokkeslett kunden tok kontakt med supportavdelingen\n",
    "* Kolonne 3: Samtalens varighet\n",
    "* Kolonne 4: Kundens tilfredshet (skala fra 1-10 hvor 1 indikerer svært misfornøyd og 10 indikerer svært fornøyd).\n",
    "\n",
    "**Merk:** kolonne 4 er ikke komplett da mange kunder unnlater å gi tilbakemelding på sin tilfredshet"
   ]
  },
  {
   "cell_type": "markdown",
   "metadata": {
    "id": "2UeeZkPpw9ph"
   },
   "source": [
    "**Del a)**\n",
    "\n",
    "Skriv et program som leser inn filen ‘support_uke_24.xlsx’\n",
    "\n",
    "* kolonne 1 lagres i en array med variablenavn **‘u_dag’**\n",
    "* kolonne 2 lagres i array **‘kl_slett’**\n",
    "* kolonne 3 lagres i array **‘varighet’**\n",
    "* kolonne 4 lagres i array **‘score’**\n",
    "\n",
    "Merk: filen \"support_uke_24.xlsx\" må ligge i samme mappe som Python-programmet ditt."
   ]
  },
  {
   "cell_type": "code",
   "execution_count": 23,
   "metadata": {
    "colab": {
     "base_uri": "https://localhost:8080/"
    },
    "id": "iczFg41cx3P-",
    "outputId": "1839aed3-112c-403c-fc76-ead0f2beb916"
   },
   "outputs": [
    {
     "name": "stdout",
     "output_type": "stream",
     "text": [
      "Lastet inn dokumentet\n",
      "kolonne 1 lagret i array med variablenavn 'u_dag' med 217 rader\n",
      "kolonne 2 lagret i array med variablenavn 'kl_slett' med 217 rader\n",
      "kolonne 3 lagret i array med variablenavn 'varighet' med 217 rader\n",
      "kolonne 4 lagret i array med variablenavn 'score' med 217 rader\n"
     ]
    }
   ],
   "source": [
    "\"\"\"\n",
    "Del A\n",
    "Lite program som leser inn en excel-fil med pandas modulen\n",
    "og lagrer verdiene i en array.\n",
    "\n",
    "Steinar Stalsberg\n",
    "2025 04 06\n",
    "\"\"\"\n",
    "\n",
    "# Importerer moduler\n",
    "import pandas as pd\n",
    "import numpy as np\n",
    "import matplotlib.pyplot as plt\n",
    "\n",
    "# Leser inn Excel-fil\n",
    "s_uke24 = pd.read_excel('support_uke_24.xlsx')\n",
    "\n",
    "# Sjekker om filen er tom\n",
    "if(s_uke24.empty):\n",
    "  print(\"Filen er tom\")\n",
    "else:\n",
    "  print(\"Lastet inn dokumentet\")\n",
    "\n",
    "# Konverter kolonner til arrays\n",
    "u_dag = np.array(s_uke24['Ukedag'])\n",
    "kl_slett = np.array(s_uke24['Klokkeslett'])\n",
    "varighet = np.array(s_uke24['Varighet'])\n",
    "score = np.array(s_uke24['Tilfredshet'])\n",
    "\n",
    "# Skriver ut bekreftelse til brukeren\n",
    "print(\"kolonne 1 lagret i array med variablenavn 'u_dag' med\", len(u_dag), \"rader\")\n",
    "print(\"kolonne 2 lagret i array med variablenavn 'kl_slett' med\", len(kl_slett), \"rader\")\n",
    "print(\"kolonne 3 lagret i array med variablenavn 'varighet' med\", len(varighet), \"rader\")\n",
    "print(\"kolonne 4 lagret i array med variablenavn 'score' med\", len(score), \"rader\")"
   ]
  },
  {
   "cell_type": "markdown",
   "metadata": {
    "id": "LM2pllFc8_Ii"
   },
   "source": [
    "**Del b)** \n",
    "\n",
    "Skriv et program som finner antall henvendelser for hver de 5 ukedagene. Resultatet\n",
    "visualiseres ved bruk av et søylediagram (stolpediagram)."
   ]
  },
  {
   "cell_type": "code",
   "execution_count": 24,
   "metadata": {
    "colab": {
     "base_uri": "https://localhost:8080/",
     "height": 472
    },
    "id": "UynvTBdL9XkL",
    "outputId": "0c36cc4f-7373-4d0d-838c-e6930b107f9d"
   },
   "outputs": [
    {
     "data": {
      "image/png": "[encoded data removed]",
      "text/plain": [
       "<Figure size 640x480 with 1 Axes>"
      ]
     },
     "metadata": {},
     "output_type": "display_data"
    }
   ],
   "source": [
    "\"\"\"\n",
    "Del B\n",
    "Lite program som teller henvendelser per ukedag\n",
    "og visualiserer resultatet i et stolpediagram.\n",
    "\n",
    "Merk: forutsetter at variablen u_dag er lastet inn i del A\n",
    "\n",
    "Steinar Stalsberg\n",
    "2025-04-06\n",
    "\"\"\"\n",
    "\n",
    "# Setter opp en funksjon som teller henvendelser per ukedag\n",
    "def tell_henvendelser_per_dag(u_dag):\n",
    "    dager = ['Mandag', 'Tirsdag', 'Onsdag', 'Torsdag', 'Fredag'] # setter opp hva funksjonen skal iterere over\n",
    "    antall_per_dag = {}  # Opprett en tom dictionary\n",
    "\n",
    "    for dag in dager:\n",
    "      # Teller hvor mange ganger den aktuelle dagen finnes i u_dag-arrayen\n",
    "      antall_per_dag[dag] = np.count_nonzero(u_dag == dag)\n",
    "    return antall_per_dag\n",
    "\n",
    "# Kjører funksjonen og lagrer resultatet i en dictionary\n",
    "resultat = tell_henvendelser_per_dag(u_dag)\n",
    "\n",
    "# Setter opp stolpediagram. I en dictonary, vil resultat.keys liste opp ukedag, mens resultat.values liste opp verdien i lagret keys.\n",
    "plt.bar(resultat.keys(), resultat.values()) \n",
    "for i, antall in enumerate(resultat.values()):\n",
    "    plt.text(i, antall + 0.2, str(antall), ha='center')\n",
    "plt.xlabel('Ukedag')\n",
    "plt.ylabel('Antall henvendelser')\n",
    "plt.title('Antall henvendelser per ukedag')\n",
    "plt.show()"
   ]
  },
  {
   "cell_type": "markdown",
   "metadata": {
    "id": "O02nvU6cKAAH"
   },
   "source": [
    "**Del c)** \n",
    "\n",
    "Skriv et program som finner minste og lengste samtaletid som er loggført for uke 24.\n",
    "Svaret skrives til skjerm med informativ tekst."
   ]
  },
  {
   "cell_type": "code",
   "execution_count": 25,
   "metadata": {
    "colab": {
     "base_uri": "https://localhost:8080/"
    },
    "id": "RywwUix9KB6O",
    "outputId": "63f8be5f-4503-4fa5-c31c-316fe4bf9dc5"
   },
   "outputs": [
    {
     "name": "stdout",
     "output_type": "stream",
     "text": [
      "Lengste samtaletid i uke 24: 00:11:28 sekunder\n",
      "Korteste samtaletid i uke 24: 00:00:59 sekunder\n"
     ]
    }
   ],
   "source": [
    "\"\"\"\n",
    "Del C\n",
    "Lite program som finner lengste og korteste samtaletid.\n",
    "\n",
    "Merk: forutsetter at variablen varighet er lastet inn i del A\n",
    "\n",
    "Steinar Stalsberg\n",
    "2025-04-06\n",
    "\"\"\"\n",
    "\n",
    "# Finner høyeste og laveste samtaletid\n",
    "vmax = max(varighet)\n",
    "vmin = min(varighet)\n",
    "\n",
    "# Skriver ut resultatet\n",
    "print(\"Lengste samtaletid i uke 24:\", vmax, \"sekunder\")\n",
    "print(\"Korteste samtaletid i uke 24:\", vmin, \"sekunder\")"
   ]
  },
  {
   "cell_type": "markdown",
   "metadata": {
    "id": "2uCmo7La8T8C"
   },
   "source": [
    "**Del d)** \n",
    "\n",
    "Skriv et program som regner ut gjennomsnittlig samtaletid basert på alle\n",
    "henvendelser i uke 24."
   ]
  },
  {
   "cell_type": "code",
   "execution_count": 26,
   "metadata": {
    "colab": {
     "base_uri": "https://localhost:8080/"
    },
    "id": "LhtofW1U8Xra",
    "outputId": "ed827efe-19f3-4e54-a181-f19efccfa301"
   },
   "outputs": [
    {
     "name": "stdout",
     "output_type": "stream",
     "text": [
      "Totalt antall sekunder: 86802\n",
      "Gjennomsnittlig samtaletid: 400.01\n",
      "Gjennomsnittlig samtaletid i minutter: 6.67\n"
     ]
    }
   ],
   "source": [
    "\"\"\"\n",
    "Del D\n",
    "Lite program regner ut gjennomsnittlig samtaletid basert på alle henvendelser.\n",
    "\n",
    "Merk: forutsetter at variablen 'varighet' er lastet inn i del A\n",
    "\n",
    "Steinar Stalsberg\n",
    "2025-04-06\n",
    "\"\"\"\n",
    "\n",
    "# Teller antall henvendelser\n",
    "antall_henvendelser = len(varighet)\n",
    "sekunder = [] # tom liste for å ta i mot alle sekunder\n",
    "\n",
    "# Deler opp kolonnen varighet basert på hh:mm:ss og konverterer hver rad til sekunder\n",
    "for v in varighet:\n",
    "  h, m, s = map(int, v.split(\":\"))\n",
    "  til_sekunder  = (h * 3600) + (m * 60) + s\n",
    "  sekunder.append(til_sekunder)\n",
    "\n",
    "# Summerer alle samtaler til sekunder og skriver til skjerm\n",
    "tot_varighet = sum(sekunder)\n",
    "print(\"Totalt antall sekunder:\", tot_varighet)\n",
    "\n",
    "# Gjennomsnitt av samtalene i sekunder og minutter og skriver til skjerm\n",
    "gjennomsnitt_varighet = tot_varighet / antall_henvendelser\n",
    "avrundet_minutter = gjennomsnitt_varighet / 60\n",
    "print(\"Gjennomsnittlig samtaletid:\", round(gjennomsnitt_varighet, 2))\n",
    "print(\"Gjennomsnittlig samtaletid i minutter:\", round(avrundet_minutter, 2))"
   ]
  },
  {
   "cell_type": "markdown",
   "metadata": {
    "id": "EGxkR2Y6X3hg"
   },
   "source": [
    "**Del e)** \n",
    "\n",
    "Supportvaktene i MORSE er delt inn i 2-timers bolker: kl 08-10, kl 10-12, kl 12-14 og kl\n",
    "14-16. Skriv et program som finner det totale antall henvendelser supportavdelingen mottok\n",
    "for hver av tidsrommene 08-10, 10-12, 12-14 og 14-16 for uke 24. Resultatet visualiseres ved\n",
    "bruk av et sektordiagram (kakediagram)."
   ]
  },
  {
   "cell_type": "code",
   "execution_count": 27,
   "metadata": {
    "colab": {
     "base_uri": "https://localhost:8080/",
     "height": 521
    },
    "id": "5hcbk03_YCTl",
    "outputId": "d65d46c1-8ff9-4584-c04a-e3dbe2523cdb"
   },
   "outputs": [
    {
     "data": {
      "image/png": "[encoded data removed]",
      "text/plain": [
       "<Figure size 600x600 with 1 Axes>"
      ]
     },
     "metadata": {},
     "output_type": "display_data"
    }
   ],
   "source": [
    "\"\"\"\n",
    "Del E\n",
    "Lite program som teller det totale antall henvendelser\n",
    "supportavdelingen mottok for hver av tidsrommene\n",
    "08-10, 10-12, 12-14 og 14-16\n",
    "\n",
    "Merk: forutsetter at variablen 'kl_slett' er lastet inn i del A\n",
    "\n",
    "Steinar Stalsberg\n",
    "2025-04-06\n",
    "\"\"\"\n",
    "\n",
    "# Setter opp en dictionary med fordelingen av vaktene\n",
    "fordeling = {\"Vakt 1\": 0, \"Vakt 2\": 0, \"Vakt 3\": 0, \"Vakt 4\": 0}\n",
    "\n",
    "# Deler opp kolonnen 'kl_slett' basert på hh:mm:ss, konverterer til integer, bruker h til å fordele\n",
    "for henv in kl_slett:\n",
    "  h, m, s = map(int, henv.split(\":\"))\n",
    "  if h >= 8 and h < 10:\n",
    "        fordeling[\"Vakt 1\"] += 1\n",
    "  elif h >= 10 and h < 12:\n",
    "        fordeling[\"Vakt 2\"] += 1\n",
    "  elif h >= 12 and h < 14:\n",
    "        fordeling[\"Vakt 3\"] += 1\n",
    "  elif h >= 14 and h < 16:\n",
    "        fordeling[\"Vakt 4\"] += 1\n",
    "\n",
    "# Visualiserer resultatet som et kakediagram\n",
    "labels = list(fordeling.keys())\n",
    "sizes = list(fordeling.values())\n",
    "\n",
    "plt.figure(figsize=(6, 6))\n",
    "plt.pie(sizes, labels=labels, autopct='%1.1f%%', startangle=90)\n",
    "plt.title('Supporthenvendelser per tidsrom – Uke 24')\n",
    "plt.axis('equal')\n",
    "plt.show()"
   ]
  },
  {
   "cell_type": "markdown",
   "metadata": {
    "id": "2-gZ2jfufBoN"
   },
   "source": [
    "**Del f)** \n",
    "\n",
    "Kundens tilfredshet loggføres som tall fra 1-10 hvor 1 indikerer svært misfornøyd og 10 indikerer svært fornøyd. Disse tilbakemeldingene skal så overføres til NPS-systemet (Net Promoter Score).\n",
    "\n",
    "\n",
    "NPS-systemet er konstruert på følgende måte: Score 1-6 oppfattes som at kunden er negativ (vil trolig ikke anbefale MORSE til andre).\n",
    "\n",
    "Score 7-8 oppfattes som et nøytralt svar.\n",
    "\n",
    "Score 9-10 oppfattes som at kunden er positiv (vil trolig anbefale MORSE til andre).\n",
    "\n",
    "Supportavdelingens NPS beregnes som et tall, prosentandelen positive kunder minus prosentandelen negative kunder.\n",
    "\n",
    "Ved en formel kan dette gis slik:\n",
    "NPS = % positive kunder - % negative kunder\n",
    "\n",
    "Et eksempel på utregning av NPS er gitt i figuren under. Kilde: https://www.blueprnt.com/2018/09/17/net-promoter-score/\n",
    "\n",
    "Lag et program som regner ut supportavdelings NPS og skriver svaret til skjerm. Merk:\n",
    "Kunder som ikke har gitt tilbakemelding på tilfredshet, skal utelates fra utregningene."
   ]
  },
  {
   "cell_type": "code",
   "execution_count": 28,
   "metadata": {
    "colab": {
     "base_uri": "https://localhost:8080/"
    },
    "id": "tjpLQDekfeYw",
    "outputId": "991d5b06-fbbc-4cc8-a13d-9b0d2ace256b"
   },
   "outputs": [
    {
     "name": "stdout",
     "output_type": "stream",
     "text": [
      "Totalt antall scoregivere: 43\n",
      "Positive svar: 65.11627906976744\n",
      "Negative svar: 23.25581395348837\n",
      "Nøytrale svar: 11.627906976744185\n",
      "Supportavdelingens NPS er 42\n"
     ]
    }
   ],
   "source": [
    "\"\"\"\n",
    "Del F\n",
    "Lite program som som regner ut\n",
    "supportavdelings NPS og skriver svaret til skjerm\n",
    "\n",
    "Merk: forutsetter at variablen 'score' er lastet inn i del A\n",
    "\n",
    "Steinar Stalsberg\n",
    "2025-04-06\n",
    "\"\"\"\n",
    "\n",
    "# Setter opp variabler\n",
    "score_pos = 0\n",
    "score_neg = 0\n",
    "score_neu = 0\n",
    "no_score = 0\n",
    "\n",
    "# Itererer alle verdiene i 'score' og fordeler dem\n",
    "for s in score:\n",
    "    if s >= 9:\n",
    "        score_pos += 1\n",
    "    elif s >= 7 and s <= 8:\n",
    "        score_neu += 1\n",
    "    elif s <= 6:\n",
    "        score_neg += 1\n",
    "    else:\n",
    "        no_score += 1\n",
    "\n",
    "# regner ut alle score givere\n",
    "total_score = score_pos + score_neg + score_neu\n",
    "print(\"Totalt antall scoregivere:\", total_score)\n",
    "\n",
    "# Beregner prosent av positiv, negativ, og nøytral\n",
    "positive_prosent = (score_pos / total_score) * 100\n",
    "negative_prosent = (score_neg / total_score) * 100\n",
    "neutral_prosent = (score_neu / total_score) * 100\n",
    "\n",
    "# Skriver prosentfordelingen til skjerm\n",
    "print(\"Positive svar:\", positive_prosent)\n",
    "print(\"Negative svar:\", negative_prosent)\n",
    "print(\"Nøytrale svar:\", neutral_prosent)\n",
    "\n",
    "# NPS formel for å beregne score, gjort om til integer\n",
    "NPS =  positive_prosent - negative_prosent\n",
    "print(\"Supportavdelingens NPS er\", int(round(NPS)))"
   ]
  }
 ],
 "metadata": {
  "colab": {
   "provenance": []
  },
  "kernelspec": {
   "display_name": "Python 3 (ipykernel)",
   "language": "python",
   "name": "python3"
  },
  "language_info": {
   "codemirror_mode": {
    "name": "ipython",
    "version": 3
   },
   "file_extension": ".py",
   "mimetype": "text/x-python",
   "name": "python",
   "nbconvert_exporter": "python",
   "pygments_lexer": "ipython3",
   "version": "3.13.2"
  }
 },
 "nbformat": 4,
 "nbformat_minor": 4
}
